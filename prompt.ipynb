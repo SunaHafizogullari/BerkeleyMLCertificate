{
 "cells": [
  {
   "cell_type": "markdown",
   "metadata": {},
   "source": [
    "### Will a Customer Accept the Coupon?\n",
    "\n",
    "**Context**\n",
    "\n",
    "Imagine driving through town and a coupon is delivered to your cell phone for a restaraunt near where you are driving. Would you accept that coupon and take a short detour to the restaraunt? Would you accept the coupon but use it on a sunbsequent trip? Would you ignore the coupon entirely? What if the coupon was for a bar instead of a restaraunt? What about a coffee house? Would you accept a bar coupon with a minor passenger in the car? What about if it was just you and your partner in the car? Would weather impact the rate of acceptance? What about the time of day?\n",
    "\n",
    "Obviously, proximity to the business is a factor on whether the coupon is delivered to the driver or not, but what are the factors that determine whether a driver accepts the coupon once it is delivered to them? How would you determine whether a driver is likely to accept a coupon?\n",
    "\n",
    "**Overview**\n",
    "\n",
    "The goal of this project is to use what you know about visualizations and probability distributions to distinguish between customers who accepted a driving coupon versus those that did not.\n",
    "\n",
    "**Data**\n",
    "\n",
    "This data comes to us from the UCI Machine Learning repository and was collected via a survey on Amazon Mechanical Turk. The survey describes different driving scenarios including the destination, current time, weather, passenger, etc., and then ask the person whether he will accept the coupon if he is the driver. Answers that the user will drive there ‘right away’ or ‘later before the coupon expires’ are labeled as ‘Y = 1’ and answers ‘no, I do not want the coupon’ are labeled as ‘Y = 0’.  There are five different types of coupons -- less expensive restaurants (under \\\\$20), coffee houses, carry out & take away, bar, and more expensive restaurants (\\\\$20 - \\\\$50). "
   ]
  },
  {
   "cell_type": "markdown",
   "metadata": {},
   "source": [
    "**Deliverables**\n",
    "\n",
    "Your final product should be a brief report that highlights the differences between customers who did and did not accept the coupons.  To explore the data you will utilize your knowledge of plotting, statistical summaries, and visualization using Python. You will publish your findings in a public facing github repository as your first portfolio piece. \n",
    "\n",
    "\n",
    "\n"
   ]
  },
  {
   "cell_type": "markdown",
   "metadata": {},
   "source": [
    "### Data Description\n",
    "\n",
    "The attributes of this data set include:\n",
    "1. User attributes\n",
    "    -  Gender: male, female\n",
    "    -  Age: below 21, 21 to 25, 26 to 30, etc.\n",
    "    -  Marital Status: single, married partner, unmarried partner, or widowed\n",
    "    -  Number of children: 0, 1, or more than 1\n",
    "    -  Education: high school, bachelors degree, associates degree, or graduate degree\n",
    "    -  Occupation: architecture & engineering, business & financial, etc.\n",
    "    -  Annual income: less than \\\\$12500, \\\\$12500 - \\\\$24999, \\\\$25000 - \\\\$37499, etc.\n",
    "    -  Number of times that he/she goes to a bar: 0, less than 1, 1 to 3, 4 to 8 or greater than 8\n",
    "    -  Number of times that he/she buys takeaway food: 0, less than 1, 1 to 3, 4 to 8 or greater\n",
    "    than 8\n",
    "    -  Number of times that he/she goes to a coffee house: 0, less than 1, 1 to 3, 4 to 8 or\n",
    "    greater than 8\n",
    "    -  Number of times that he/she eats at a restaurant with average expense less than \\\\$20 per\n",
    "    person: 0, less than 1, 1 to 3, 4 to 8 or greater than 8\n",
    "    -  Number of times that he/she goes to a bar: 0, less than 1, 1 to 3, 4 to 8 or greater than 8\n",
    "    \n",
    "\n",
    "2. Contextual attributes\n",
    "    - Driving destination: home, work, or no urgent destination\n",
    "    - Location of user, coupon and destination: we provide a map to show the geographical\n",
    "    location of the user, destination, and the venue, and we mark the distance between each\n",
    "    two places with time of driving. The user can see whether the venue is in the same\n",
    "    direction as the destination.\n",
    "    - Weather: sunny, rainy, or snowy\n",
    "    - Temperature: 30F, 55F, or 80F\n",
    "    - Time: 10AM, 2PM, or 6PM\n",
    "    - Passenger: alone, partner, kid(s), or friend(s)\n",
    "\n",
    "\n",
    "3. Coupon attributes\n",
    "    - time before it expires: 2 hours or one day"
   ]
  },
  {
   "cell_type": "code",
   "execution_count": 1,
   "metadata": {},
   "outputs": [
    {
     "data": {
      "text/html": [
       "<style>.container { width:100% !important; }</style>"
      ],
      "text/plain": [
       "<IPython.core.display.HTML object>"
      ]
     },
     "metadata": {},
     "output_type": "display_data"
    }
   ],
   "source": [
    "import matplotlib.pyplot as plt\n",
    "import seaborn as sns\n",
    "import pandas as pd\n",
    "import numpy as np\n",
    "import plotly.express as px\n",
    "\n",
    "from IPython.core.interactiveshell import InteractiveShell\n",
    "InteractiveShell.ast_node_interactivity = \"all\"\n",
    "pd.options.display.max_columns = None\n",
    "\n",
    "from IPython.display import display, HTML\n",
    "display(HTML(\"<style>.container { width:100% !important; }</style>\"))"
   ]
  },
  {
   "cell_type": "markdown",
   "metadata": {},
   "source": [
    "### Problems\n",
    "\n",
    "Use the prompts below to get started with your data analysis.  \n",
    "\n",
    "1. Read in the `coupons.csv` file.\n",
    "\n",
    "\n"
   ]
  },
  {
   "cell_type": "code",
   "execution_count": 2,
   "metadata": {},
   "outputs": [],
   "source": [
    "data = pd.read_csv('data/coupons.csv')"
   ]
  },
  {
   "cell_type": "code",
   "execution_count": 3,
   "metadata": {},
   "outputs": [
    {
     "data": {
      "text/html": [
       "<div>\n",
       "<style scoped>\n",
       "    .dataframe tbody tr th:only-of-type {\n",
       "        vertical-align: middle;\n",
       "    }\n",
       "\n",
       "    .dataframe tbody tr th {\n",
       "        vertical-align: top;\n",
       "    }\n",
       "\n",
       "    .dataframe thead th {\n",
       "        text-align: right;\n",
       "    }\n",
       "</style>\n",
       "<table border=\"1\" class=\"dataframe\">\n",
       "  <thead>\n",
       "    <tr style=\"text-align: right;\">\n",
       "      <th></th>\n",
       "      <th>destination</th>\n",
       "      <th>passanger</th>\n",
       "      <th>weather</th>\n",
       "      <th>temperature</th>\n",
       "      <th>time</th>\n",
       "      <th>coupon</th>\n",
       "      <th>expiration</th>\n",
       "      <th>gender</th>\n",
       "      <th>age</th>\n",
       "      <th>maritalStatus</th>\n",
       "      <th>has_children</th>\n",
       "      <th>education</th>\n",
       "      <th>occupation</th>\n",
       "      <th>income</th>\n",
       "      <th>car</th>\n",
       "      <th>Bar</th>\n",
       "      <th>CoffeeHouse</th>\n",
       "      <th>CarryAway</th>\n",
       "      <th>RestaurantLessThan20</th>\n",
       "      <th>Restaurant20To50</th>\n",
       "      <th>toCoupon_GEQ5min</th>\n",
       "      <th>toCoupon_GEQ15min</th>\n",
       "      <th>toCoupon_GEQ25min</th>\n",
       "      <th>direction_same</th>\n",
       "      <th>direction_opp</th>\n",
       "      <th>Y</th>\n",
       "    </tr>\n",
       "  </thead>\n",
       "  <tbody>\n",
       "    <tr>\n",
       "      <th>0</th>\n",
       "      <td>No Urgent Place</td>\n",
       "      <td>Alone</td>\n",
       "      <td>Sunny</td>\n",
       "      <td>55</td>\n",
       "      <td>2PM</td>\n",
       "      <td>Restaurant(&lt;20)</td>\n",
       "      <td>1d</td>\n",
       "      <td>Female</td>\n",
       "      <td>21</td>\n",
       "      <td>Unmarried partner</td>\n",
       "      <td>1</td>\n",
       "      <td>Some college - no degree</td>\n",
       "      <td>Unemployed</td>\n",
       "      <td>$37500 - $49999</td>\n",
       "      <td>NaN</td>\n",
       "      <td>never</td>\n",
       "      <td>never</td>\n",
       "      <td>NaN</td>\n",
       "      <td>4~8</td>\n",
       "      <td>1~3</td>\n",
       "      <td>1</td>\n",
       "      <td>0</td>\n",
       "      <td>0</td>\n",
       "      <td>0</td>\n",
       "      <td>1</td>\n",
       "      <td>1</td>\n",
       "    </tr>\n",
       "    <tr>\n",
       "      <th>1</th>\n",
       "      <td>No Urgent Place</td>\n",
       "      <td>Friend(s)</td>\n",
       "      <td>Sunny</td>\n",
       "      <td>80</td>\n",
       "      <td>10AM</td>\n",
       "      <td>Coffee House</td>\n",
       "      <td>2h</td>\n",
       "      <td>Female</td>\n",
       "      <td>21</td>\n",
       "      <td>Unmarried partner</td>\n",
       "      <td>1</td>\n",
       "      <td>Some college - no degree</td>\n",
       "      <td>Unemployed</td>\n",
       "      <td>$37500 - $49999</td>\n",
       "      <td>NaN</td>\n",
       "      <td>never</td>\n",
       "      <td>never</td>\n",
       "      <td>NaN</td>\n",
       "      <td>4~8</td>\n",
       "      <td>1~3</td>\n",
       "      <td>1</td>\n",
       "      <td>0</td>\n",
       "      <td>0</td>\n",
       "      <td>0</td>\n",
       "      <td>1</td>\n",
       "      <td>0</td>\n",
       "    </tr>\n",
       "    <tr>\n",
       "      <th>2</th>\n",
       "      <td>No Urgent Place</td>\n",
       "      <td>Friend(s)</td>\n",
       "      <td>Sunny</td>\n",
       "      <td>80</td>\n",
       "      <td>10AM</td>\n",
       "      <td>Carry out &amp; Take away</td>\n",
       "      <td>2h</td>\n",
       "      <td>Female</td>\n",
       "      <td>21</td>\n",
       "      <td>Unmarried partner</td>\n",
       "      <td>1</td>\n",
       "      <td>Some college - no degree</td>\n",
       "      <td>Unemployed</td>\n",
       "      <td>$37500 - $49999</td>\n",
       "      <td>NaN</td>\n",
       "      <td>never</td>\n",
       "      <td>never</td>\n",
       "      <td>NaN</td>\n",
       "      <td>4~8</td>\n",
       "      <td>1~3</td>\n",
       "      <td>1</td>\n",
       "      <td>1</td>\n",
       "      <td>0</td>\n",
       "      <td>0</td>\n",
       "      <td>1</td>\n",
       "      <td>1</td>\n",
       "    </tr>\n",
       "    <tr>\n",
       "      <th>3</th>\n",
       "      <td>No Urgent Place</td>\n",
       "      <td>Friend(s)</td>\n",
       "      <td>Sunny</td>\n",
       "      <td>80</td>\n",
       "      <td>2PM</td>\n",
       "      <td>Coffee House</td>\n",
       "      <td>2h</td>\n",
       "      <td>Female</td>\n",
       "      <td>21</td>\n",
       "      <td>Unmarried partner</td>\n",
       "      <td>1</td>\n",
       "      <td>Some college - no degree</td>\n",
       "      <td>Unemployed</td>\n",
       "      <td>$37500 - $49999</td>\n",
       "      <td>NaN</td>\n",
       "      <td>never</td>\n",
       "      <td>never</td>\n",
       "      <td>NaN</td>\n",
       "      <td>4~8</td>\n",
       "      <td>1~3</td>\n",
       "      <td>1</td>\n",
       "      <td>1</td>\n",
       "      <td>0</td>\n",
       "      <td>0</td>\n",
       "      <td>1</td>\n",
       "      <td>0</td>\n",
       "    </tr>\n",
       "    <tr>\n",
       "      <th>4</th>\n",
       "      <td>No Urgent Place</td>\n",
       "      <td>Friend(s)</td>\n",
       "      <td>Sunny</td>\n",
       "      <td>80</td>\n",
       "      <td>2PM</td>\n",
       "      <td>Coffee House</td>\n",
       "      <td>1d</td>\n",
       "      <td>Female</td>\n",
       "      <td>21</td>\n",
       "      <td>Unmarried partner</td>\n",
       "      <td>1</td>\n",
       "      <td>Some college - no degree</td>\n",
       "      <td>Unemployed</td>\n",
       "      <td>$37500 - $49999</td>\n",
       "      <td>NaN</td>\n",
       "      <td>never</td>\n",
       "      <td>never</td>\n",
       "      <td>NaN</td>\n",
       "      <td>4~8</td>\n",
       "      <td>1~3</td>\n",
       "      <td>1</td>\n",
       "      <td>1</td>\n",
       "      <td>0</td>\n",
       "      <td>0</td>\n",
       "      <td>1</td>\n",
       "      <td>0</td>\n",
       "    </tr>\n",
       "  </tbody>\n",
       "</table>\n",
       "</div>"
      ],
      "text/plain": [
       "       destination  passanger weather  temperature  time  \\\n",
       "0  No Urgent Place      Alone   Sunny           55   2PM   \n",
       "1  No Urgent Place  Friend(s)   Sunny           80  10AM   \n",
       "2  No Urgent Place  Friend(s)   Sunny           80  10AM   \n",
       "3  No Urgent Place  Friend(s)   Sunny           80   2PM   \n",
       "4  No Urgent Place  Friend(s)   Sunny           80   2PM   \n",
       "\n",
       "                  coupon expiration  gender age      maritalStatus  \\\n",
       "0        Restaurant(<20)         1d  Female  21  Unmarried partner   \n",
       "1           Coffee House         2h  Female  21  Unmarried partner   \n",
       "2  Carry out & Take away         2h  Female  21  Unmarried partner   \n",
       "3           Coffee House         2h  Female  21  Unmarried partner   \n",
       "4           Coffee House         1d  Female  21  Unmarried partner   \n",
       "\n",
       "   has_children                 education  occupation           income  car  \\\n",
       "0             1  Some college - no degree  Unemployed  $37500 - $49999  NaN   \n",
       "1             1  Some college - no degree  Unemployed  $37500 - $49999  NaN   \n",
       "2             1  Some college - no degree  Unemployed  $37500 - $49999  NaN   \n",
       "3             1  Some college - no degree  Unemployed  $37500 - $49999  NaN   \n",
       "4             1  Some college - no degree  Unemployed  $37500 - $49999  NaN   \n",
       "\n",
       "     Bar CoffeeHouse CarryAway RestaurantLessThan20 Restaurant20To50  \\\n",
       "0  never       never       NaN                  4~8              1~3   \n",
       "1  never       never       NaN                  4~8              1~3   \n",
       "2  never       never       NaN                  4~8              1~3   \n",
       "3  never       never       NaN                  4~8              1~3   \n",
       "4  never       never       NaN                  4~8              1~3   \n",
       "\n",
       "   toCoupon_GEQ5min  toCoupon_GEQ15min  toCoupon_GEQ25min  direction_same  \\\n",
       "0                 1                  0                  0               0   \n",
       "1                 1                  0                  0               0   \n",
       "2                 1                  1                  0               0   \n",
       "3                 1                  1                  0               0   \n",
       "4                 1                  1                  0               0   \n",
       "\n",
       "   direction_opp  Y  \n",
       "0              1  1  \n",
       "1              1  0  \n",
       "2              1  1  \n",
       "3              1  0  \n",
       "4              1  0  "
      ]
     },
     "execution_count": 3,
     "metadata": {},
     "output_type": "execute_result"
    },
    {
     "data": {
      "text/plain": [
       "(12684, 26)"
      ]
     },
     "execution_count": 3,
     "metadata": {},
     "output_type": "execute_result"
    }
   ],
   "source": [
    "data.head()\n",
    "data.shape"
   ]
  },
  {
   "cell_type": "markdown",
   "metadata": {},
   "source": [
    "2. Investigate the dataset for missing or problematic data."
   ]
  },
  {
   "cell_type": "code",
   "execution_count": 4,
   "metadata": {},
   "outputs": [
    {
     "data": {
      "text/html": [
       "<div>\n",
       "<style scoped>\n",
       "    .dataframe tbody tr th:only-of-type {\n",
       "        vertical-align: middle;\n",
       "    }\n",
       "\n",
       "    .dataframe tbody tr th {\n",
       "        vertical-align: top;\n",
       "    }\n",
       "\n",
       "    .dataframe thead th {\n",
       "        text-align: right;\n",
       "    }\n",
       "</style>\n",
       "<table border=\"1\" class=\"dataframe\">\n",
       "  <thead>\n",
       "    <tr style=\"text-align: right;\">\n",
       "      <th></th>\n",
       "      <th>index</th>\n",
       "      <th>numRecsWithMissingValues</th>\n",
       "    </tr>\n",
       "  </thead>\n",
       "  <tbody>\n",
       "    <tr>\n",
       "      <th>14</th>\n",
       "      <td>car</td>\n",
       "      <td>12576</td>\n",
       "    </tr>\n",
       "    <tr>\n",
       "      <th>15</th>\n",
       "      <td>Bar</td>\n",
       "      <td>107</td>\n",
       "    </tr>\n",
       "    <tr>\n",
       "      <th>16</th>\n",
       "      <td>CoffeeHouse</td>\n",
       "      <td>217</td>\n",
       "    </tr>\n",
       "    <tr>\n",
       "      <th>17</th>\n",
       "      <td>CarryAway</td>\n",
       "      <td>151</td>\n",
       "    </tr>\n",
       "    <tr>\n",
       "      <th>18</th>\n",
       "      <td>RestaurantLessThan20</td>\n",
       "      <td>130</td>\n",
       "    </tr>\n",
       "    <tr>\n",
       "      <th>19</th>\n",
       "      <td>Restaurant20To50</td>\n",
       "      <td>189</td>\n",
       "    </tr>\n",
       "  </tbody>\n",
       "</table>\n",
       "</div>"
      ],
      "text/plain": [
       "                   index  numRecsWithMissingValues\n",
       "14                   car                     12576\n",
       "15                   Bar                       107\n",
       "16           CoffeeHouse                       217\n",
       "17             CarryAway                       151\n",
       "18  RestaurantLessThan20                       130\n",
       "19      Restaurant20To50                       189"
      ]
     },
     "execution_count": 4,
     "metadata": {},
     "output_type": "execute_result"
    }
   ],
   "source": [
    "#Identify features with missing values\n",
    "data.isna().sum().to_frame().reset_index().rename(columns={0: \"numRecsWithMissingValues\"}).query('numRecsWithMissingValues>0')"
   ]
  },
  {
   "cell_type": "markdown",
   "metadata": {},
   "source": [
    "3. Decide what to do about your missing data -- drop, replace, other..."
   ]
  },
  {
   "cell_type": "code",
   "execution_count": 5,
   "metadata": {},
   "outputs": [],
   "source": [
    "#Drop 'car' column since it is missing almost all the time.\n",
    "data2 = data.drop('car', axis=1)"
   ]
  },
  {
   "cell_type": "code",
   "execution_count": 6,
   "metadata": {},
   "outputs": [],
   "source": [
    "#Replace the missing values for the other columns with 'Missing' since they are very few.\n",
    "#May decide to impute them later but for now, I will just mark them.\n",
    "data2 = data2.fillna(\"Missing\")"
   ]
  },
  {
   "cell_type": "code",
   "execution_count": 7,
   "metadata": {},
   "outputs": [
    {
     "data": {
      "text/plain": [
       "0"
      ]
     },
     "execution_count": 7,
     "metadata": {},
     "output_type": "execute_result"
    }
   ],
   "source": [
    "#Confirm there are no features with missing values in this new dataset\n",
    "data2.isna().sum().to_frame().reset_index().rename(columns={0: \"numRecsWithMissingValues\"}).query('numRecsWithMissingValues>0').shape[0]"
   ]
  },
  {
   "cell_type": "markdown",
   "metadata": {},
   "source": [
    "4. What proportion of the total observations chose to accept the coupon? \n",
    "\n"
   ]
  },
  {
   "cell_type": "code",
   "execution_count": 8,
   "metadata": {},
   "outputs": [
    {
     "name": "stdout",
     "output_type": "stream",
     "text": [
      "Percent of observations chose to accept the coupon is 56.8%\n"
     ]
    }
   ],
   "source": [
    "print('Percent of observations chose to accept the coupon is %.1f%%' % (data2.query('Y==1').shape[0]/data2.shape[0]*100))"
   ]
  },
  {
   "cell_type": "markdown",
   "metadata": {},
   "source": [
    "5. Use a bar plot to visualize the `coupon` column."
   ]
  },
  {
   "cell_type": "code",
   "execution_count": 9,
   "metadata": {},
   "outputs": [
    {
     "data": {
      "image/png": "[encoded data removed]",
      "text/plain": [
       "<Figure size 432x288 with 1 Axes>"
      ]
     },
     "metadata": {
      "needs_background": "light"
     },
     "output_type": "display_data"
    }
   ],
   "source": [
    "couponFreq = data2['coupon'].value_counts(dropna=False).to_frame().reset_index().sort_values('index')\n",
    "sns.barplot(data= couponFreq, x='index',y= 'coupon')\n",
    "plt.title(\"Number of Observations by Coupon Type\")\n",
    "plt.xticks(rotation = 30)\n",
    "plt.xlabel(\"Type of Coupon\")\n",
    "plt.ylabel(\"Count\")\n",
    "plt.show();"
   ]
  },
  {
   "cell_type": "markdown",
   "metadata": {},
   "source": [
    "6. Use a histogram to visualize the temperature column."
   ]
  },
  {
   "cell_type": "code",
   "execution_count": 10,
   "metadata": {},
   "outputs": [
    {
     "data": {
      "text/plain": [
       "array([55, 80, 30], dtype=int64)"
      ]
     },
     "execution_count": 10,
     "metadata": {},
     "output_type": "execute_result"
    }
   ],
   "source": [
    "data2['temperature'].unique()"
   ]
  },
  {
   "cell_type": "code",
   "execution_count": 11,
   "metadata": {},
   "outputs": [
    {
     "data": {
      "image/png": "[encoded data removed]",
      "text/plain": [
       "<Figure size 432x288 with 1 Axes>"
      ]
     },
     "metadata": {
      "needs_background": "light"
     },
     "output_type": "display_data"
    }
   ],
   "source": [
    "sns.histplot(data2, x= 'temperature')\n",
    "plt.title(\"Distribution of Temperature\")\n",
    "plt.ylabel(\"Count\")\n",
    "plt.xlabel(\"Temperature\")\n",
    "plt.show();"
   ]
  },
  {
   "cell_type": "markdown",
   "metadata": {},
   "source": [
    "**Investigating the Bar Coupons**\n",
    "\n",
    "Now, we will lead you through an exploration of just the bar related coupons.  \n",
    "\n",
    "1. Create a new `DataFrame` that contains just the bar coupons.\n"
   ]
  },
  {
   "cell_type": "code",
   "execution_count": 12,
   "metadata": {},
   "outputs": [
    {
     "data": {
      "text/plain": [
       "(2017, 25)"
      ]
     },
     "execution_count": 12,
     "metadata": {},
     "output_type": "execute_result"
    }
   ],
   "source": [
    "dataBar = data2.query('coupon == \"Bar\"')\n",
    "dataBar.shape"
   ]
  },
  {
   "cell_type": "markdown",
   "metadata": {},
   "source": [
    "2. What proportion of bar coupons were accepted?\n"
   ]
  },
  {
   "cell_type": "code",
   "execution_count": 13,
   "metadata": {},
   "outputs": [
    {
     "name": "stdout",
     "output_type": "stream",
     "text": [
      "Percent of the bar coupons accepted is 41.0%\n"
     ]
    }
   ],
   "source": [
    "print('Percent of the bar coupons accepted is %.1f%%' % (dataBar.query('Y==1').shape[0]/dataBar.shape[0]*100))"
   ]
  },
  {
   "cell_type": "code",
   "execution_count": 14,
   "metadata": {},
   "outputs": [
    {
     "data": {
      "image/png": "[encoded data removed]",
      "text/plain": [
       "<Figure size 432x288 with 1 Axes>"
      ]
     },
     "metadata": {
      "needs_background": "light"
     },
     "output_type": "display_data"
    }
   ],
   "source": [
    "#Created a barchart to show the number of accepted and rejected\n",
    "couponFreq = dataBar['Y'].value_counts(dropna=False).to_frame().reset_index().sort_values('index')\n",
    "sns.barplot(data= couponFreq, x='index',y= 'Y')\n",
    "plt.title(\"Number of Drivers Who Accepted/Rejected Bar Coupons\")\n",
    "plt.xlabel(\"Rejected (0) / Accepted (1) Coupon\")\n",
    "plt.ylabel(\"Count\")\n",
    "plt.show();"
   ]
  },
  {
   "cell_type": "markdown",
   "metadata": {},
   "source": [
    "3. Compare the acceptance rate between those who went to a bar 3 or fewer times a month to those who went more."
   ]
  },
  {
   "cell_type": "code",
   "execution_count": 15,
   "metadata": {},
   "outputs": [
    {
     "data": {
      "text/plain": [
       "array(['1~3', '4~8', 'Missing', 'gt8', 'less1', 'never'], dtype=object)"
      ]
     },
     "execution_count": 15,
     "metadata": {},
     "output_type": "execute_result"
    }
   ],
   "source": [
    "#Get unique values for Bar\n",
    "np.sort(dataBar['Bar'].unique())"
   ]
  },
  {
   "cell_type": "code",
   "execution_count": 16,
   "metadata": {},
   "outputs": [],
   "source": [
    "#Create a list for going to bar 3 or fewer times\n",
    "barLT3 = ['1~3', 'less1', 'never']"
   ]
  },
  {
   "cell_type": "code",
   "execution_count": 17,
   "metadata": {},
   "outputs": [
    {
     "name": "stdout",
     "output_type": "stream",
     "text": [
      "Percent of the bar coupons accepted by the drivers who went to the bar three times or less in a month 37.1%\n",
      "Percent of the bar coupons accepted by the drivers who went to the bar more than three times in a month 76.9%\n"
     ]
    }
   ],
   "source": [
    "accRate1 = (dataBar.query('Y == \"1\" and Bar in @barLT3').shape[0]/ \\\n",
    "dataBar.query('Bar in @barLT3').shape[0])*100\n",
    "print('Percent of the bar coupons accepted by the drivers who went to the bar three times or less in a month %.1f%%' % accRate1)\n",
    "\n",
    "\n",
    "# Excluded records with Bar == 'Missing' since we don't know how many times they wents to the bar.\n",
    "accRate2 = (dataBar.query('Y == \"1\" and Bar not in @barLT3 and Bar != \"Missing\"').shape[0]/ \\\n",
    "dataBar.query('Bar not in @barLT3 and Bar != \"Missing\"').shape[0])*100\n",
    "print('Percent of the bar coupons accepted by the drivers who went to the bar more than three times in a month %.1f%%' % accRate2)"
   ]
  },
  {
   "cell_type": "markdown",
   "metadata": {},
   "source": [
    "4. Compare the acceptance rate between drivers who go to a bar more than once a month and are over the age of 25 to the all others.  Is there a difference?\n"
   ]
  },
  {
   "cell_type": "code",
   "execution_count": 18,
   "metadata": {},
   "outputs": [
    {
     "data": {
      "text/plain": [
       "array(['21', '26', '31', '36', '41', '46', '50plus', 'below21'],\n",
       "      dtype=object)"
      ]
     },
     "execution_count": 18,
     "metadata": {},
     "output_type": "execute_result"
    }
   ],
   "source": [
    "#Get unique values for age\n",
    "np.sort(dataBar['age'].unique())"
   ]
  },
  {
   "cell_type": "code",
   "execution_count": 19,
   "metadata": {},
   "outputs": [],
   "source": [
    "##Create a list for going to bar >= 1 times\n",
    "barGE1 = ['1~3','4~8','gt8']\n",
    "\n",
    "#Create two lists for age > 25\n",
    "ageGE25 = ['26', '31', '36', '41', '46', '50plus']"
   ]
  },
  {
   "cell_type": "code",
   "execution_count": 20,
   "metadata": {},
   "outputs": [
    {
     "name": "stdout",
     "output_type": "stream",
     "text": [
      "Percent of the bar coupons accepted by the drivers older than 25 who go to the bar at least once in a in a month 69.5%\n",
      "Percent of the bar coupons accepted by the drivers younger than 25 or who go to the bar less than once in a in a month 33.4%\n"
     ]
    }
   ],
   "source": [
    "#Drivers older than 25 and visit the bar more than once a month\n",
    "accRate3 = (dataBar.query('Y == \"1\" and age in @ageGE25 and Bar in @barGE1').shape[0])/ \\\n",
    "                    (dataBar.query('age in @ageGE25 and Bar in @barGE1').shape[0])*100\n",
    "print('Percent of the bar coupons accepted by the drivers older than 25 who go to the bar at least once in a in a month %.1f%%' % accRate3)\n",
    "\n",
    "#All others. \n",
    "# 1. Drivers younger than 25 OR\n",
    "# 2. Drivers older than 25 and visit the bar at most once a month\n",
    "# Excluded records with Bar == 'Missing' since we don't know how many times they wents to the bar.\n",
    "accRate4 = (dataBar.query('Y == \"1\" and ~(age in @ageGE25 and Bar in @barGE1) and Bar != \"Missing\"').shape[0])/ \\\n",
    "                    (dataBar.query(' ~(age in @ageGE25 and Bar in @barGE1) and Bar != \"Missing\"').shape[0])*100\n",
    "print('Percent of the bar coupons accepted by the drivers younger than 25 or who go to the bar less than once in a in a month %.1f%%' % accRate4)"
   ]
  },
  {
   "cell_type": "markdown",
   "metadata": {},
   "source": [
    "5. Use the same process to compare the acceptance rate between drivers who go to bars more than once a month and had passengers that were not a kid and had occupations other than farming, fishing, or forestry. \n"
   ]
  },
  {
   "cell_type": "code",
   "execution_count": 21,
   "metadata": {},
   "outputs": [
    {
     "data": {
      "text/plain": [
       "array(['Kid(s)', 'Alone', 'Friend(s)', 'Partner'], dtype=object)"
      ]
     },
     "execution_count": 21,
     "metadata": {},
     "output_type": "execute_result"
    },
    {
     "data": {
      "text/plain": [
       "array(['Architecture & Engineering',\n",
       "       'Arts Design Entertainment Sports & Media',\n",
       "       'Building & Grounds Cleaning & Maintenance',\n",
       "       'Business & Financial', 'Community & Social Services',\n",
       "       'Computer & Mathematical', 'Construction & Extraction',\n",
       "       'Education&Training&Library', 'Farming Fishing & Forestry',\n",
       "       'Food Preparation & Serving Related',\n",
       "       'Healthcare Practitioners & Technical', 'Healthcare Support',\n",
       "       'Installation Maintenance & Repair', 'Legal',\n",
       "       'Life Physical Social Science', 'Management',\n",
       "       'Office & Administrative Support', 'Personal Care & Service',\n",
       "       'Production Occupations', 'Protective Service', 'Retired',\n",
       "       'Sales & Related', 'Student', 'Transportation & Material Moving',\n",
       "       'Unemployed'], dtype=object)"
      ]
     },
     "execution_count": 21,
     "metadata": {},
     "output_type": "execute_result"
    }
   ],
   "source": [
    "dataBar['passanger'].unique()\n",
    "np.sort(dataBar['occupation'].unique())"
   ]
  },
  {
   "cell_type": "code",
   "execution_count": 22,
   "metadata": {},
   "outputs": [],
   "source": [
    "passengerNoKid = [\"Friend(s)\",\"Partner\"]"
   ]
  },
  {
   "cell_type": "code",
   "execution_count": 23,
   "metadata": {},
   "outputs": [
    {
     "name": "stdout",
     "output_type": "stream",
     "text": [
      "Percent of the bar coupons accepted by the drivers who go to bar more than once and travel with no kids and do not work in Farming, Fishing and Forestry 71.8%\n",
      "Percent of the bar coupons accepted by the other drivers 37.7%\n"
     ]
    }
   ],
   "source": [
    "accRate5 = (dataBar.query('Y == \"1\" and Bar in @barGE1 and passanger in @passengerNoKid and occupation != \"Farming Fishing & Forestry\"').shape[0])/ \\\n",
    "                    (dataBar.query('Bar in @barGE1 and passanger in @passengerNoKid and occupation != \"Farming Fishing & Forestry\"').shape[0])*100\n",
    "print('Percent of the bar coupons accepted by the drivers who go to bar more than once and travel with no kids and do not work in Farming, Fishing and Forestry %.1f%%' % accRate5)\n",
    "\n",
    "\n",
    "accRate6 = (dataBar.query('Y == \"1\" and ~(Bar in @barGE1 and passanger in @passengerNoKid and occupation != \"Farming Fishing & Forestry\") and Bar != \"Missing\"').shape[0])/ \\\n",
    "                    (dataBar.query('~(Bar in @barGE1 and passanger in @passengerNoKid and occupation != \"Farming Fishing & Forestry\") and Bar != \"Missing\"').shape[0])*100\n",
    "print('Percent of the bar coupons accepted by the other drivers %.1f%%' % accRate6)\n"
   ]
  },
  {
   "cell_type": "markdown",
   "metadata": {},
   "source": [
    "6. Compare the acceptance rates between those drivers who:\n",
    "\n",
    "- go to bars more than once a month, had passengers that were not a kid, and were not widowed *OR*\n",
    "- go to bars more than once a month and are under the age of 30 *OR*\n",
    "- go to cheap restaurants more than 4 times a month and income is less than 50K. \n",
    "\n"
   ]
  },
  {
   "cell_type": "code",
   "execution_count": 24,
   "metadata": {},
   "outputs": [
    {
     "data": {
      "text/plain": [
       "array(['Unmarried partner', 'Single', 'Married partner', 'Divorced',\n",
       "       'Widowed'], dtype=object)"
      ]
     },
     "execution_count": 24,
     "metadata": {},
     "output_type": "execute_result"
    },
    {
     "data": {
      "text/plain": [
       "array(['4~8', '1~3', 'less1', 'gt8', 'Missing', 'never'], dtype=object)"
      ]
     },
     "execution_count": 24,
     "metadata": {},
     "output_type": "execute_result"
    },
    {
     "data": {
      "text/plain": [
       "array(['$37500 - $49999', '$62500 - $74999', '$12500 - $24999',\n",
       "       '$75000 - $87499', '$50000 - $62499', '$25000 - $37499',\n",
       "       '$100000 or More', '$87500 - $99999', 'Less than $12500'],\n",
       "      dtype=object)"
      ]
     },
     "execution_count": 24,
     "metadata": {},
     "output_type": "execute_result"
    }
   ],
   "source": [
    "dataBar['maritalStatus'].unique()\n",
    "dataBar['RestaurantLessThan20'].unique()\n",
    "dataBar['income'].unique()"
   ]
  },
  {
   "cell_type": "code",
   "execution_count": 25,
   "metadata": {},
   "outputs": [],
   "source": [
    "##Create a list for going to bar >= 1 times\n",
    "barGE1 = ['1~3','4~8','gt8']\n",
    "\n",
    "##Create a list for drivers with no kid passengers\n",
    "passengerNoKid = [\"Friend(s)\",\"Partner\"]\n",
    "\n",
    "##Create a list for drivers who are not widowed\n",
    "maritalStatusNotWidowed= ['Unmarried partner', 'Single', 'Married partner', 'Divorced']\n",
    "\n",
    "#Create a list for age < 30\n",
    "ageLT30 = ['21', '26', 'below21']\n",
    "\n",
    "#Create a list for going to cheap restaurants more than 4 times\n",
    "cheapRestaurantGE4 = ['4~8','gt8']\n",
    "\n",
    "#Create a list for income less than 50K\n",
    "incomeLT50K = ['$37500 - $49999','$12500 - $24999','$25000 - $37499','Less than $12500']"
   ]
  },
  {
   "cell_type": "code",
   "execution_count": 26,
   "metadata": {
    "scrolled": true
   },
   "outputs": [
    {
     "name": "stdout",
     "output_type": "stream",
     "text": [
      "Percent of the bar coupons accepted by the drivers who go to bars more than once a month, had passengers that were not a kid, and were not widowed  71.8%\n",
      "Percent of the bar coupons accepted by the drivers who go to bars more than once a month and are under the age of 30   72.2%\n",
      "Percent of the bar coupons accepted by the drivers who go to cheap restaurants more than 4 times a month and income is less than 50K   45.3%\n"
     ]
    }
   ],
   "source": [
    "accRate7 = (dataBar.query('Y == \"1\" and Bar in @barGE1 and passanger in @passengerNoKid and maritalStatus in @maritalStatusNotWidowed').shape[0])/ \\\n",
    "           (dataBar.query('Bar in @barGE1 and passanger in @passengerNoKid and maritalStatus in @maritalStatusNotWidowed').shape[0])*100\n",
    "print('Percent of the bar coupons accepted by the drivers who go to bars more than once a month, had passengers that were not a kid, and were not widowed  %.1f%%' % accRate7)\n",
    "\n",
    "accRate8 = (dataBar.query('Y == \"1\" and Bar in @barGE1 and age in @ageLT30').shape[0])/ \\\n",
    "           (dataBar.query('Bar in @barGE1 and age in @ageLT30').shape[0])*100\n",
    "print('Percent of the bar coupons accepted by the drivers who go to bars more than once a month and are under the age of 30   %.1f%%' % accRate8)\n",
    "\n",
    "\n",
    "accRate9 = (dataBar.query('Y == \"1\" and RestaurantLessThan20 in @cheapRestaurantGE4 and income in @incomeLT50K').shape[0])/ \\\n",
    "           (dataBar.query('RestaurantLessThan20 in @cheapRestaurantGE4 and income in @incomeLT50K').shape[0])*100\n",
    "print('Percent of the bar coupons accepted by the drivers who go to cheap restaurants more than 4 times a month and income is less than 50K   %.1f%%' % accRate9)"
   ]
  },
  {
   "cell_type": "markdown",
   "metadata": {},
   "source": [
    "7.  Based on these observations, what do you hypothesize about drivers who accepted the bar coupons?"
   ]
  },
  {
   "cell_type": "markdown",
   "metadata": {},
   "source": [
    "### <font color=red> __Insights based on the above stats for \"bar\" coupons__\n",
    "    \n",
    "    \n",
    "<font color=blue>\n",
    "   \n",
    "0. Only 41.0% of the bar coupons were accepted.\n",
    "1. Older drivers who go to a bar more tend to accept the bar coupons.\n",
    "2. Younger drivers and drivers who go to a bar less frequently do not tend to accept the bar coupons.\n",
    "3. Drivers with adult passengers are more likely to accept the the bar coupons.\n",
    "4. Passengers who are not windowed are more likely to accept the bar coupons.\n",
    "5. Income is a factor for accepting the bar coupons. Drivers who go to cheap restaurants and earn less do not tend to accept the bar coupons."
   ]
  },
  {
   "cell_type": "markdown",
   "metadata": {},
   "source": [
    "### Independent Investigation\n",
    "\n",
    "Using the bar coupon example as motivation, you are to explore one of the other coupon groups and try to determine the characteristics of passengers who accept the coupons.  "
   ]
  },
  {
   "cell_type": "markdown",
   "metadata": {},
   "source": [
    "#### _Let's explore the profile of the drivers who accept Coffee House coupons since majority of the drivers received coffee house coupons_"
   ]
  },
  {
   "cell_type": "code",
   "execution_count": 27,
   "metadata": {},
   "outputs": [
    {
     "data": {
      "text/plain": [
       "(3996, 25)"
      ]
     },
     "execution_count": 27,
     "metadata": {},
     "output_type": "execute_result"
    }
   ],
   "source": [
    "dataCoffee = data2.query('coupon == \"Coffee House\"')\n",
    "dataCoffee.shape"
   ]
  },
  {
   "cell_type": "markdown",
   "metadata": {},
   "source": [
    "1. What proportion of coffee house coupons were accepted?"
   ]
  },
  {
   "cell_type": "code",
   "execution_count": 28,
   "metadata": {},
   "outputs": [
    {
     "name": "stdout",
     "output_type": "stream",
     "text": [
      "Percent of the coffee house coupons accepted is 49.9%\n"
     ]
    }
   ],
   "source": [
    "print('Percent of the coffee house coupons accepted is %.1f%%' % (dataCoffee.query('Y==1').shape[0]/dataCoffee.shape[0]*100))"
   ]
  },
  {
   "cell_type": "markdown",
   "metadata": {},
   "source": [
    "2. Compare the acceptance rate between those who travel before noon to those who travel in the afternoon"
   ]
  },
  {
   "cell_type": "code",
   "execution_count": 29,
   "metadata": {},
   "outputs": [
    {
     "data": {
      "text/plain": [
       "array(['10AM', '2PM', '6PM', '7AM', '10PM'], dtype=object)"
      ]
     },
     "execution_count": 29,
     "metadata": {},
     "output_type": "execute_result"
    }
   ],
   "source": [
    "dataCoffee[\"time\"].unique()"
   ]
  },
  {
   "cell_type": "code",
   "execution_count": 30,
   "metadata": {},
   "outputs": [],
   "source": [
    "morningList = ['10AM','7AM']"
   ]
  },
  {
   "cell_type": "code",
   "execution_count": 31,
   "metadata": {},
   "outputs": [
    {
     "name": "stdout",
     "output_type": "stream",
     "text": [
      "Percent of the coffee house coupons accepted by the drivers who travel in the morning  54.2%\n",
      "Percent of the coffee house coupons accepted by the drivers who travel later in the day  46.3%\n"
     ]
    }
   ],
   "source": [
    "acceptRate1 = (dataCoffee.query('Y == \"1\" and time in @morningList').shape[0])/ \\\n",
    "           (dataCoffee.query('time in @morningList').shape[0])*100\n",
    "print('Percent of the coffee house coupons accepted by the drivers who travel in the morning  %.1f%%' % acceptRate1)\n",
    "\n",
    "acceptRate2 = (dataCoffee.query('Y == \"1\" and ~(time in @morningList)').shape[0])/ \\\n",
    "           (dataCoffee.query('~(time in @morningList)').shape[0])*100\n",
    "print('Percent of the coffee house coupons accepted by the drivers who travel later in the day  %.1f%%' % acceptRate2)\n",
    "\n"
   ]
  },
  {
   "cell_type": "markdown",
   "metadata": {},
   "source": [
    "3. Compare the acceptance rate between single females who travel in the morning and visit coffee house at least four times\n",
    "with the rest of the population "
   ]
  },
  {
   "cell_type": "code",
   "execution_count": 32,
   "metadata": {},
   "outputs": [
    {
     "data": {
      "text/plain": [
       "array(['never', 'less1', '4~8', '1~3', 'gt8', 'Missing'], dtype=object)"
      ]
     },
     "execution_count": 32,
     "metadata": {},
     "output_type": "execute_result"
    },
    {
     "data": {
      "text/plain": [
       "array(['Unmarried partner', 'Single', 'Married partner', 'Divorced',\n",
       "       'Widowed'], dtype=object)"
      ]
     },
     "execution_count": 32,
     "metadata": {},
     "output_type": "execute_result"
    },
    {
     "data": {
      "text/plain": [
       "array(['Female', 'Male'], dtype=object)"
      ]
     },
     "execution_count": 32,
     "metadata": {},
     "output_type": "execute_result"
    }
   ],
   "source": [
    "dataCoffee['CoffeeHouse'].unique()\n",
    "dataCoffee['maritalStatus'].unique()\n",
    "dataCoffee['gender'].unique()"
   ]
  },
  {
   "cell_type": "code",
   "execution_count": 33,
   "metadata": {},
   "outputs": [],
   "source": [
    "#Create a list for travel to coffee house at least four times\n",
    "coffeeTravelList = ['4~8', 'gt8']"
   ]
  },
  {
   "cell_type": "code",
   "execution_count": 34,
   "metadata": {},
   "outputs": [
    {
     "name": "stdout",
     "output_type": "stream",
     "text": [
      "Percent of the coffee coupons accepted by single female drivers who travel in the morning  73.7%\n",
      "Percent of the coffee house coupons accepted by the rest of the population  49.2%\n"
     ]
    }
   ],
   "source": [
    "acceptRate3 =  (dataCoffee.query('Y == \"1\" and (gender == \"Female\" and maritalStatus == \"Single\" and CoffeeHouse in @coffeeTravelList) ').shape[0])/ \\\n",
    "           (dataCoffee.query('gender == \"Female\" and maritalStatus == \"Single\" and CoffeeHouse in @coffeeTravelList').shape[0])*100\n",
    "print('Percent of the coffee coupons accepted by single female drivers who travel in the morning  %.1f%%' % acceptRate3)\n",
    "\n",
    "acceptRate4 = (dataCoffee.query('Y == \"1\" and ~(gender == \"Female\" and maritalStatus == \"Single\" and CoffeeHouse in @coffeeTravelList) and CoffeeHouse !=\"Missing\"').shape[0])/ \\\n",
    "           (dataCoffee.query('~(gender == \"Female\" and maritalStatus == \"Single\" and CoffeeHouse in @coffeeTravelList) and CoffeeHouse !=\"Missing\"').shape[0])*100\n",
    "print('Percent of the coffee house coupons accepted by the rest of the population  %.1f%%' % acceptRate4)\n"
   ]
  },
  {
   "cell_type": "markdown",
   "metadata": {},
   "source": [
    "4. Compare the acceptance rate between highly educated people with income higher than  $50K but go to coffee house at most 3 times but not never"
   ]
  },
  {
   "cell_type": "code",
   "execution_count": 35,
   "metadata": {},
   "outputs": [
    {
     "data": {
      "text/plain": [
       "array(['Some college - no degree', 'Bachelors degree',\n",
       "       'Associates degree', 'High School Graduate',\n",
       "       'Graduate degree (Masters or Doctorate)', 'Some High School'],\n",
       "      dtype=object)"
      ]
     },
     "execution_count": 35,
     "metadata": {},
     "output_type": "execute_result"
    },
    {
     "data": {
      "text/plain": [
       "array(['$37500 - $49999', '$62500 - $74999', '$12500 - $24999',\n",
       "       '$75000 - $87499', '$50000 - $62499', '$25000 - $37499',\n",
       "       '$100000 or More', '$87500 - $99999', 'Less than $12500'],\n",
       "      dtype=object)"
      ]
     },
     "execution_count": 35,
     "metadata": {},
     "output_type": "execute_result"
    },
    {
     "data": {
      "text/plain": [
       "array(['never', 'less1', '4~8', '1~3', 'gt8', 'Missing'], dtype=object)"
      ]
     },
     "execution_count": 35,
     "metadata": {},
     "output_type": "execute_result"
    }
   ],
   "source": [
    "dataCoffee['education'].unique()\n",
    "dataCoffee['income'].unique()\n",
    "dataCoffee['CoffeeHouse'].unique()"
   ]
  },
  {
   "cell_type": "code",
   "execution_count": 36,
   "metadata": {},
   "outputs": [],
   "source": [
    "#Create a list for highly educated people\n",
    "educatedList = ['Bachelors degree','Associates degree','Graduate degree (Masters or Doctorate)']\n",
    "\n",
    "#Create a list for income higher than $50K\n",
    "incomeList = ['$62500 - $74999','$75000 - $87499', '$50000 - $62499','$100000 or More', '$87500 - $99999']\n",
    "\n",
    "#Create a list for coffee house travel at most 3 times\n",
    "coffeeTravelList = ['less1', '1~3']"
   ]
  },
  {
   "cell_type": "code",
   "execution_count": 37,
   "metadata": {},
   "outputs": [
    {
     "name": "stdout",
     "output_type": "stream",
     "text": [
      "Percent of the coffee coupons accepted by highly educated, high income drivers who go to coffee house at most three times but not never  49.8%\n",
      "Percent of the coffee house coupons accepted by the rest of the population  50.0%\n"
     ]
    }
   ],
   "source": [
    "acceptRate5 =  (dataCoffee.query('Y == \"1\" and (education in @educatedList and income in @incomeList and CoffeeHouse in @coffeeTravelList) ').shape[0])/ \\\n",
    "           (dataCoffee.query('education in @educatedList and income in @incomeList and CoffeeHouse in @coffeeTravelList').shape[0])*100\n",
    "print('Percent of the coffee coupons accepted by highly educated, high income drivers who go to coffee house at most three times but not never  %.1f%%' % acceptRate5)\n",
    "\n",
    "acceptRate6 = (dataCoffee.query('Y == \"1\" and ~(education in @educatedList and income in @incomeList and CoffeeHouse in @coffeeTravelList)  and CoffeeHouse !=\"Missing\"').shape[0])/ \\\n",
    "           (dataCoffee.query('~(education in @educatedList and income in @incomeList and CoffeeHouse in @coffeeTravelList) and CoffeeHouse !=\"Missing\"').shape[0])*100\n",
    "print('Percent of the coffee house coupons accepted by the rest of the population  %.1f%%' % acceptRate6)"
   ]
  },
  {
   "cell_type": "markdown",
   "metadata": {},
   "source": [
    "6. Compare the acceptance rates between those drivers who:\n",
    "\n",
    "- go to coffee house more than once a month, do not travel alone, and were not widowed *OR*\n",
    "- go to coffee house more than once a month and are under the age of 30 *OR*\n",
    "- go to cheap restaurants more than 4 times a month and income is less than 50K. "
   ]
  },
  {
   "cell_type": "code",
   "execution_count": 38,
   "metadata": {},
   "outputs": [
    {
     "data": {
      "text/plain": [
       "array(['never', 'less1', '4~8', '1~3', 'gt8', 'Missing'], dtype=object)"
      ]
     },
     "execution_count": 38,
     "metadata": {},
     "output_type": "execute_result"
    },
    {
     "data": {
      "text/plain": [
       "array(['Friend(s)', 'Kid(s)', 'Alone', 'Partner'], dtype=object)"
      ]
     },
     "execution_count": 38,
     "metadata": {},
     "output_type": "execute_result"
    },
    {
     "data": {
      "text/plain": [
       "array(['Unmarried partner', 'Single', 'Married partner', 'Divorced',\n",
       "       'Widowed'], dtype=object)"
      ]
     },
     "execution_count": 38,
     "metadata": {},
     "output_type": "execute_result"
    },
    {
     "data": {
      "text/plain": [
       "array(['21', '46', '26', '31', '41', '50plus', '36', 'below21'],\n",
       "      dtype=object)"
      ]
     },
     "execution_count": 38,
     "metadata": {},
     "output_type": "execute_result"
    },
    {
     "data": {
      "text/plain": [
       "array(['$37500 - $49999', '$62500 - $74999', '$12500 - $24999',\n",
       "       '$75000 - $87499', '$50000 - $62499', '$25000 - $37499',\n",
       "       '$100000 or More', '$87500 - $99999', 'Less than $12500'],\n",
       "      dtype=object)"
      ]
     },
     "execution_count": 38,
     "metadata": {},
     "output_type": "execute_result"
    },
    {
     "data": {
      "text/plain": [
       "array(['4~8', '1~3', 'less1', 'gt8', 'Missing', 'never'], dtype=object)"
      ]
     },
     "execution_count": 38,
     "metadata": {},
     "output_type": "execute_result"
    }
   ],
   "source": [
    "dataCoffee['CoffeeHouse'].unique()\n",
    "dataCoffee['passanger'].unique()\n",
    "dataCoffee['maritalStatus'].unique()\n",
    "dataCoffee['age'].unique()\n",
    "dataCoffee['income'].unique()\n",
    "dataCoffee['RestaurantLessThan20'].unique()"
   ]
  },
  {
   "cell_type": "code",
   "execution_count": 39,
   "metadata": {},
   "outputs": [],
   "source": [
    "#Create a list for going to coffee house more than one a month\n",
    "coffeeTravelList = ['4~8', '1~3', 'gt8']\n",
    "\n",
    "#Create a list for under the age of 30\n",
    "ageList = ['21', '26','below21']\n",
    "\n",
    "#Create a list of cheap restaurants\n",
    "cheapRestaurantList = ['4~8','gt8']\n",
    "\n",
    "#Create a list for income less than $50K\n",
    "incomeList = ['$37500 - $49999', '$12500 - $24999','$25000 - $37499','Less than $12500']"
   ]
  },
  {
   "cell_type": "code",
   "execution_count": 40,
   "metadata": {},
   "outputs": [
    {
     "name": "stdout",
     "output_type": "stream",
     "text": [
      "Percent of the coffee house coupons accepted by the drivers who go to coffee houses more than once a month, travelled alone, and were not widowed  75.2%\n",
      "Percent of the coffee house coupons accepted by the drivers who go to coffee houses more than once a month and are under the age of 30   68.9%\n",
      "Percent of the coffee house coupons accepted by the drivers who go to cheap restaurants more than 4 times a month and income is less than 50K   54.3%\n"
     ]
    }
   ],
   "source": [
    "accRate7 = (dataCoffee.query('Y == \"1\" and CoffeeHouse in @coffeeTravelList and passanger != \"Alone\" and maritalStatus != \"Widowed\"').shape[0])/ \\\n",
    "           (dataCoffee.query('CoffeeHouse in @coffeeTravelList and passanger != \"Alone\" and maritalStatus != \"Widowed\"').shape[0])*100\n",
    "print('Percent of the coffee house coupons accepted by the drivers who go to coffee houses more than once a month, travelled alone, and were not widowed  %.1f%%' % accRate7)\n",
    "\n",
    "\n",
    "accRate8 = (dataCoffee.query('Y == \"1\" and CoffeeHouse in @coffeeTravelList  and age in @ageLT30').shape[0])/ \\\n",
    "           (dataCoffee.query('CoffeeHouse in @coffeeTravelList  and age in @ageLT30').shape[0])*100\n",
    "print('Percent of the coffee house coupons accepted by the drivers who go to coffee houses more than once a month and are under the age of 30   %.1f%%' % accRate8)\n",
    "\n",
    "\n",
    "accRate9 = (dataCoffee.query('Y == \"1\" and RestaurantLessThan20 in @cheapRestaurantList and income in @incomeList').shape[0])/ \\\n",
    "           (dataCoffee.query('RestaurantLessThan20 in @cheapRestaurantList and income in @incomeList').shape[0])*100\n",
    "print('Percent of the coffee house coupons accepted by the drivers who go to cheap restaurants more than 4 times a month and income is less than 50K   %.1f%%' % accRate9)"
   ]
  },
  {
   "cell_type": "markdown",
   "metadata": {},
   "source": [
    "### <font color=red> __Insights based on the above stats for \"coffee house\" coupons__\n",
    "\n",
    "\n",
    "    \n",
    "<font color=blue>\n",
    "\n",
    "0. Half of the coffee house coupons were accepted.\n",
    "1. Drivers who travel in the morning are more likely to accept coffee coupons.\n",
    "2. Single female drivers travelling in the morning tend to accept the coffee coupons compared to the rest of the population.\n",
    "3. Highly educated people with high income who are not very frquent coffee house travelers are not any more likely to accept the coupon than the rest of the population.\n",
    "4. Three quarters of the driver who go to a coffee house at least once a month, travelling with someone and not widowed accept the coffee house coupons.\n",
    "5. Drivers younger than 30 who go to a coffee house at least once a month are likely to accept the coffee house coupons.\n",
    "6. More than half of the drivers with less income and visit cheap restaurants accept the coffee house coupons."
   ]
  }
 ],
 "metadata": {
  "kernelspec": {
   "display_name": "Python 3",
   "language": "python",
   "name": "python3"
  },
  "language_info": {
   "codemirror_mode": {
    "name": "ipython",
    "version": 3
   },
   "file_extension": ".py",
   "mimetype": "text/x-python",
   "name": "python",
   "nbconvert_exporter": "python",
   "pygments_lexer": "ipython3",
   "version": "3.8.5"
  },
  "widgets": {
   "application/vnd.jupyter.widget-state+json": {
    "state": {},
    "version_major": 2,
    "version_minor": 0
   }
  }
 },
 "nbformat": 4,
 "nbformat_minor": 4
}
